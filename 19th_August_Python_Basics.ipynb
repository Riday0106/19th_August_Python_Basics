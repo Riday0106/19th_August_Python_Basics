{
 "cells": [
  {
   "cell_type": "code",
   "execution_count": null,
   "id": "07e1ac92-2233-4429-9258-07632996355e",
   "metadata": {},
   "outputs": [],
   "source": [
    "#PYTHON BASICS VARIABLE"
   ]
  },
  {
   "cell_type": "code",
   "execution_count": 1,
   "id": "80604675-47f9-4af5-b01f-c24f068cc5c7",
   "metadata": {},
   "outputs": [
    {
     "name": "stdout",
     "output_type": "stream",
     "text": [
      "Value of x after swapping =  10\n",
      "Value of y after swapping =  5\n"
     ]
    }
   ],
   "source": [
    "#Question 1\n",
    "x = 5\n",
    "y = 10\n",
    "x,y = y,x #Swapping the two values, now x = 10 and y = 5\n",
    "print(\"Value of x after swapping = \", x)\n",
    "print(\"Value of y after swapping = \", y)"
   ]
  },
  {
   "cell_type": "code",
   "execution_count": 2,
   "id": "54e481e1-05dc-43c9-929a-af94e36c150a",
   "metadata": {},
   "outputs": [
    {
     "name": "stdin",
     "output_type": "stream",
     "text": [
      "Enter the length of a rectangle:  6\n",
      "Enter the width of a rectangle:  8\n"
     ]
    },
    {
     "name": "stdout",
     "output_type": "stream",
     "text": [
      "Area of the rectangle is  48\n"
     ]
    }
   ],
   "source": [
    "#Question 2\n",
    "length = int(input(\"Enter the length of a rectangle: \"))\n",
    "width = int(input(\"Enter the width of a rectangle: \"))\n",
    "area_of_rectangle = length * width # Area of a rectangle = length * width\n",
    "print(\"Area of the rectangle is \", area_of_rectangle) # Prints the area of the rectangle"
   ]
  },
  {
   "cell_type": "code",
   "execution_count": 4,
   "id": "f0bfaf37-4a9e-4c2e-bcc4-653e6f8821ae",
   "metadata": {},
   "outputs": [
    {
     "name": "stdin",
     "output_type": "stream",
     "text": [
      "Enter the temperature in celcius:  35\n"
     ]
    },
    {
     "name": "stdout",
     "output_type": "stream",
     "text": [
      "The temperature in Fahrenheit is  95.0\n"
     ]
    }
   ],
   "source": [
    "#Question 3\n",
    "temp_in_celcius = int(input(\"Enter the temperature in celcius: \"))\n",
    "temp_in_fahrenheit = (9/5) * temp_in_celcius + 32 # Conversion of celcius to fahrenheit\n",
    "print(\"The temperature in Fahrenheit is \", temp_in_fahrenheit) # Prints the temperature in fahrenheit"
   ]
  },
  {
   "cell_type": "code",
   "execution_count": null,
   "id": "1f0753ed-bc0e-424e-9e14-52f709854220",
   "metadata": {},
   "outputs": [],
   "source": [
    "#STRING BASED QUESTIONS"
   ]
  },
  {
   "cell_type": "code",
   "execution_count": 5,
   "id": "3c2fbdee-7d51-47e6-9d22-840ca8b1ba3c",
   "metadata": {},
   "outputs": [
    {
     "name": "stdin",
     "output_type": "stream",
     "text": [
      "Enter a random string:  HelloWorld\n"
     ]
    },
    {
     "name": "stdout",
     "output_type": "stream",
     "text": [
      "The length of the string is  10\n"
     ]
    }
   ],
   "source": [
    "#Question 1\n",
    "some_string = str(input(\"Enter a random string: \"))\n",
    "some_string_length = len(some_string) # Method that returns the length of a string\n",
    "print(\"The length of the string is \", some_string_length) # Prints the length of the string"
   ]
  },
  {
   "cell_type": "code",
   "execution_count": 4,
   "id": "d164f262-5072-42f9-9ca0-b60f60457e5a",
   "metadata": {},
   "outputs": [
    {
     "name": "stdin",
     "output_type": "stream",
     "text": [
      "Enter a meaningful sentence:  Max wins!\n"
     ]
    },
    {
     "name": "stdout",
     "output_type": "stream",
     "text": [
      "There are  2  vowels in the sentence\n"
     ]
    }
   ],
   "source": [
    "#Question 2\n",
    "sentence = str(input(\"Enter a meaningful sentence: \"))\n",
    "sentence_length = len(sentence)\n",
    "counter_vowels = 0 # Counter of vowels in the sentence\n",
    "for i in range(sentence_length): # Iterates the string per character\n",
    "    if sentence[i] in \"AEIOUaeiou\": # Checks if a,e,i,o,u, irrespective of case, is present in the sentence or not\n",
    "        counter_vowels = counter_vowels + 1 # Increments the counter_vowels when a vowel is detected\n",
    "print(\"There are \", counter_vowels, \" vowels in the sentence\")"
   ]
  },
  {
   "cell_type": "code",
   "execution_count": 5,
   "id": "0c2583f2-f5ae-40ae-b048-b97f86753121",
   "metadata": {},
   "outputs": [
    {
     "name": "stdout",
     "output_type": "stream",
     "text": [
      "The string reversed is  dlroW olleH\n"
     ]
    }
   ],
   "source": [
    "# Question 3\n",
    "some_string = \"Hello World\" # Random given string\n",
    "some_string_reversed = some_string[::-1] # The third argument (-1) will enable slicing in reverse order, i.e., from the end of the string to the start\n",
    "print(\"The string reversed is \", some_string_reversed) # Prints the reversed string \"dlroW olleH\""
   ]
  },
  {
   "cell_type": "code",
   "execution_count": 6,
   "id": "35d6eadc-a66e-4623-ab55-6fb4a19f467a",
   "metadata": {},
   "outputs": [
    {
     "name": "stdin",
     "output_type": "stream",
     "text": [
      "Enter a valid random string:  racecar\n"
     ]
    },
    {
     "name": "stdout",
     "output_type": "stream",
     "text": [
      "The provided string is a palindrome\n"
     ]
    }
   ],
   "source": [
    "#Question 4\n",
    "some_string = str(input(\"Enter a valid random string: \"))\n",
    "some_string_reversed = some_string[::-1] # Stores the reversed string\n",
    "if (some_string_reversed == some_string): # Compares both the normal and reversed string, if they are same, the string is a palindrome\n",
    "    print(\"The provided string is a palindrome\")\n",
    "else:\n",
    "    print(\"The provoded string is not a palindrome\")"
   ]
  },
  {
   "cell_type": "code",
   "execution_count": 8,
   "id": "f87d77ca-1caf-463a-9306-667291818ed3",
   "metadata": {},
   "outputs": [
    {
     "name": "stdin",
     "output_type": "stream",
     "text": [
      "Enter a valid string:  Hi, my name is Riday. How are you doing today?\n"
     ]
    },
    {
     "name": "stdout",
     "output_type": "stream",
     "text": [
      "The string provided, after removing all spaces is:  Hi,mynameisRiday.Howareyoudoingtoday?\n"
     ]
    }
   ],
   "source": [
    "# Question 5\n",
    "some_string = str(input(\"Enter a valid string: \"))\n",
    "some_string_without_spaces = some_string.replace(\" \", \"\") # Replaces all the spaces with empty string, hereby removing all the space characters in the string\n",
    "print(\"The string provided, after removing all spaces is: \", some_string_without_spaces) # Prints the string without spaces"
   ]
  }
 ],
 "metadata": {
  "kernelspec": {
   "display_name": "Python 3 (ipykernel)",
   "language": "python",
   "name": "python3"
  },
  "language_info": {
   "codemirror_mode": {
    "name": "ipython",
    "version": 3
   },
   "file_extension": ".py",
   "mimetype": "text/x-python",
   "name": "python",
   "nbconvert_exporter": "python",
   "pygments_lexer": "ipython3",
   "version": "3.10.8"
  }
 },
 "nbformat": 4,
 "nbformat_minor": 5
}
